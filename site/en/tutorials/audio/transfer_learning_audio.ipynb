{
  "cells": [
    {
      "cell_type": "markdown",
      "metadata": {
        "id": "Cb4espuLKJiA"
      },
      "source": [
        "ECE4191 - Team E04"
      ]
    },
    {
      "cell_type": "markdown",
      "metadata": {
        "id": "g8Tsym8Rq-0V"
      },
      "source": [
        "## Multi-Category Model\n"
      ]
    },
    {
      "cell_type": "markdown",
      "source": [
        "Single-class detection"
      ],
      "metadata": {
        "id": "2KDiIgBwF_TU"
      }
    },
    {
      "cell_type": "code",
      "source": [
        "!pip install -q --upgrade tensorflow==2.17.0 tensorflow-io\n",
        "!pip install numpy==1.26.4 pandas==2.1.4 --force-reinstall"
      ],
      "metadata": {
        "id": "Hf8tZDSJF5jA",
        "collapsed": true
      },
      "execution_count": null,
      "outputs": []
    },
    {
      "cell_type": "code",
      "source": [
        "import os\n",
        "import glob\n",
        "import random\n",
        "import numpy as np\n",
        "import pandas as pd\n",
        "import tensorflow as tf\n",
        "import tensorflow_hub as hub\n",
        "import tensorflow_io as tfio\n",
        "import matplotlib.pyplot as plt\n",
        "from IPython import display\n",
        "from sklearn.model_selection import train_test_split\n",
        "from google.colab import files\n",
        "import zipfile"
      ],
      "metadata": {
        "id": "HUe_LWRJJIDp"
      },
      "execution_count": null,
      "outputs": []
    },
    {
      "cell_type": "code",
      "source": [
        "@tf.function\n",
        "def load_wav_16k_mono(filename):\n",
        "  \"\"\" Load a WAV file, convert it to a float tensor, resample to 16 kHz single-channel audio. \"\"\"\n",
        "  file_contents = tf.io.read_file(filename)\n",
        "  wav, sample_rate = tf.audio.decode_wav(file_contents, desired_channels=1)\n",
        "  wav = tf.squeeze(wav, axis=-1)\n",
        "  sample_rate = tf.cast(sample_rate, dtype=tf.int64)\n",
        "  wav = tfio.audio.resample(wav, rate_in=sample_rate, rate_out=16000)\n",
        "  return wav\n",
        "\n",
        "def extract_embedding(wav_data, label):\n",
        "  scores, embeddings, spectrogram = yamnet_model(wav_data)\n",
        "  num_embeddings = tf.shape(embeddings)[0]\n",
        "  return (embeddings, tf.repeat(label, num_embeddings))"
      ],
      "metadata": {
        "id": "McDne-_iGYAe"
      },
      "execution_count": null,
      "outputs": []
    },
    {
      "cell_type": "code",
      "source": [
        "yamnet_model_handle = 'https://tfhub.dev/google/yamnet/1'\n",
        "yamnet_model = hub.load(yamnet_model_handle)"
      ],
      "metadata": {
        "id": "qgQ3MPdoGaPr"
      },
      "execution_count": null,
      "outputs": []
    },
    {
      "cell_type": "code",
      "source": [
        "import zipfile\n",
        "\n",
        "!unzip -q /content/augmented_data/augmented_kookaburra.zip -d /content/augmented_data\n",
        "!unzip -q /content/augmented_data/augmented_bat.zip -d /content/augmented_data\n",
        "!unzip -q /content/augmented_data/augmented_cockatoo.zip -d /content/augmented_data\n",
        "!unzip -q /content/augmented_data/augmented_crocodile.zip -d /content/augmented_data\n",
        "!unzip -q /content/augmented_data/augmented_dingo.zip -d /content/augmented_data\n",
        "!unzip -q /content/augmented_data/augmented_duck.zip -d /content/augmented_data\n",
        "!unzip -q /content/augmented_data/augmented_frog.zip -d /content/augmented_data\n",
        "!unzip -q /content/augmented_data/augmented_koala.zip -d /content/augmented_data\n",
        "!unzip -q /content/augmented_data/augmented_magpie.zip -d /content/augmented_data\n",
        "!unzip -q /content/augmented_data/augmented_platypus.zip -d /content/augmented_data\n",
        "!unzip -q /content/augmented_data/augmented_possum.zip -d /content/augmented_data\n",
        "!unzip -q /content/augmented_data/augmented_snake.zip -d /content/augmented_data\n",
        "!unzip -q /content/augmented_data/augmented_tawnyfrogmouth.zip -d /content/augmented_data\n",
        "!unzip -q /content/augmented_data/augmented_wombat.zip -d /content/augmented_data\n",
        "!unzip -q /content/augmented_data/augmented_background.zip -d /content/augmented_data"
      ],
      "metadata": {
        "id": "nT1VAntOJRe-",
        "collapsed": true
      },
      "execution_count": null,
      "outputs": []
    },
    {
      "cell_type": "code",
      "source": [
        "import glob\n",
        "import pandas as pd\n",
        "import os\n",
        "\n",
        "my_classes = ['kookaburra', 'bat', 'cockatoo', 'crocodile', 'dingo', 'duck', 'frog', 'koala', 'magpie', 'platypus', 'possum', 'snake', 'tawnyfrogmouth', 'wombat', 'background']  # Multi-class\n",
        "base_data_path = '/content/augmented_data/'\n",
        "\n",
        "filenames = glob.glob(base_data_path + '**/*.wav', recursive=True)  # Recursive to handle subfolders\n",
        "\n",
        "targets = []\n",
        "valid_filenames = []\n",
        "for f in filenames:\n",
        "    basename = os.path.basename(f).lower()\n",
        "    matching_c = next((c for c in my_classes if c in basename), None)\n",
        "    if matching_c:\n",
        "        valid_filenames.append(f)\n",
        "        targets.append(my_classes.index(matching_c))\n",
        "\n",
        "my_pd_data = pd.DataFrame({'filename': valid_filenames, 'target': targets}).astype({'filename': 'object'})\n",
        "print(len(valid_filenames))  # Debug: Should be combined total from all classes\n",
        "my_pd_data.head()"
      ],
      "metadata": {
        "collapsed": true,
        "id": "9nIEadwMJzhA"
      },
      "execution_count": null,
      "outputs": []
    },
    {
      "cell_type": "code",
      "source": [
        "# Split filenames first (fast)\n",
        "from sklearn.model_selection import train_test_split\n",
        "\n",
        "filenames = my_pd_data['filename'].tolist()\n",
        "targets = my_pd_data['target'].tolist()\n",
        "\n",
        "train_files, test_files, train_targets, test_targets = train_test_split(filenames, targets, test_size=0.2, stratify=targets, random_state=42)\n",
        "train_files, val_files, train_targets, val_targets = train_test_split(train_files, train_targets, test_size=0.125, stratify=train_targets, random_state=42)\n",
        "\n",
        "# Create subsets and map/extract/cache\n",
        "train_ds = tf.data.Dataset.from_tensor_slices((train_files, train_targets)).map(lambda f, l: (load_wav_16k_mono(f), l)).map(extract_embedding).unbatch().cache()\n",
        "val_ds = tf.data.Dataset.from_tensor_slices((val_files, val_targets)).map(lambda f, l: (load_wav_16k_mono(f), l)).map(extract_embedding).unbatch().cache()\n",
        "test_ds = tf.data.Dataset.from_tensor_slices((test_files, test_targets)).map(lambda f, l: (load_wav_16k_mono(f), l)).map(extract_embedding).unbatch().cache()\n",
        "\n",
        "# Batch/prefetch\n",
        "train_ds = train_ds.batch(32).prefetch(tf.data.AUTOTUNE)\n",
        "val_ds = val_ds.batch(32).prefetch(tf.data.AUTOTUNE)\n",
        "test_ds = test_ds.batch(32).prefetch(tf.data.AUTOTUNE)"
      ],
      "metadata": {
        "id": "bgfSBs84M_aw"
      },
      "execution_count": null,
      "outputs": []
    },
    {
      "cell_type": "code",
      "source": [
        "my_model = tf.keras.Sequential([\n",
        "    tf.keras.layers.Input(shape=(1024,), dtype=tf.float32, name='input_embedding'),\n",
        "    tf.keras.layers.Dense(512, activation='relu'),\n",
        "    tf.keras.layers.Dense(len(my_classes))  # Multi-class output\n",
        "], name='animal_model')\n",
        "\n",
        "my_model.summary()\n",
        "\n",
        "my_model.compile(loss=tf.keras.losses.SparseCategoricalCrossentropy(from_logits=True),\n",
        "                 optimizer=\"adam\",\n",
        "                 metrics=[\"accuracy\"])"
      ],
      "metadata": {
        "collapsed": true,
        "id": "5aq8xYolNEkh"
      },
      "execution_count": null,
      "outputs": []
    },
    {
      "cell_type": "code",
      "source": [
        "callback = tf.keras.callbacks.EarlyStopping(monitor='loss', patience=3, restore_best_weights=True)\n",
        "\n",
        "history = my_model.fit(train_ds,\n",
        "                       epochs=20,\n",
        "                       validation_data=val_ds,\n",
        "                       callbacks=[callback])"
      ],
      "metadata": {
        "collapsed": true,
        "id": "NgtZaR-QNHSJ"
      },
      "execution_count": null,
      "outputs": []
    },
    {
      "cell_type": "code",
      "source": [
        "# Loss plot\n",
        "loss = history.history['loss']\n",
        "val_loss = history.history['val_loss']\n",
        "epochs = range(1, len(loss) + 1)\n",
        "\n",
        "plt.plot(epochs, loss, 'bo', label='Training loss')\n",
        "plt.plot(epochs, val_loss, 'b', label='Validation loss')\n",
        "plt.title('Training and validation loss')\n",
        "plt.legend()\n",
        "plt.show()\n",
        "\n",
        "# Accuracy plot\n",
        "acc = history.history['accuracy']\n",
        "val_acc = history.history['val_accuracy']\n",
        "\n",
        "plt.plot(epochs, acc, 'bo', label='Training acc')\n",
        "plt.plot(epochs, val_acc, 'b', label='Validation acc')\n",
        "plt.title('Training and validation accuracy')\n",
        "plt.legend()\n",
        "plt.show()\n",
        "\n",
        "# Test evaluation\n",
        "test_results = my_model.evaluate(test_ds, return_dict=True)\n",
        "print(test_results)"
      ],
      "metadata": {
        "collapsed": true,
        "id": "xASY2UPPeJyG"
      },
      "execution_count": null,
      "outputs": []
    },
    {
      "cell_type": "code",
      "source": [
        "# Upload and test new file\n",
        "uploaded = files.upload()\n",
        "new_file = list(uploaded.keys())[0]\n",
        "\n",
        "waveform = load_wav_16k_mono(new_file)\n",
        "scores, embeddings, spectrogram = yamnet_model(waveform)\n",
        "result = my_model(embeddings).numpy()\n",
        "probs = tf.nn.softmax(result.mean(axis=0))  # Softmax for probabilities\n",
        "inferred_idx = tf.argmax(probs)\n",
        "inferred_class = my_classes[inferred_idx]\n",
        "top_prob = probs[inferred_idx]\n",
        "\n",
        "print(f'The main sound is: {inferred_class} (probability: {top_prob:.2f})')"
      ],
      "metadata": {
        "id": "uHvPsQuVgpAW",
        "outputId": "09e16459-c263-4317-ea27-f4fdc3ba90dd",
        "colab": {
          "base_uri": "https://localhost:8080/",
          "height": 107
        }
      },
      "execution_count": null,
      "outputs": [
        {
          "output_type": "display_data",
          "data": {
            "text/plain": [
              "<IPython.core.display.HTML object>"
            ],
            "text/html": [
              "\n",
              "     <input type=\"file\" id=\"files-ef1c79cb-bd8b-44e0-8430-d7401faaae7c\" name=\"files[]\" multiple disabled\n",
              "        style=\"border:none\" />\n",
              "     <output id=\"result-ef1c79cb-bd8b-44e0-8430-d7401faaae7c\">\n",
              "      Upload widget is only available when the cell has been executed in the\n",
              "      current browser session. Please rerun this cell to enable.\n",
              "      </output>\n",
              "      <script>// Copyright 2017 Google LLC\n",
              "//\n",
              "// Licensed under the Apache License, Version 2.0 (the \"License\");\n",
              "// you may not use this file except in compliance with the License.\n",
              "// You may obtain a copy of the License at\n",
              "//\n",
              "//      http://www.apache.org/licenses/LICENSE-2.0\n",
              "//\n",
              "// Unless required by applicable law or agreed to in writing, software\n",
              "// distributed under the License is distributed on an \"AS IS\" BASIS,\n",
              "// WITHOUT WARRANTIES OR CONDITIONS OF ANY KIND, either express or implied.\n",
              "// See the License for the specific language governing permissions and\n",
              "// limitations under the License.\n",
              "\n",
              "/**\n",
              " * @fileoverview Helpers for google.colab Python module.\n",
              " */\n",
              "(function(scope) {\n",
              "function span(text, styleAttributes = {}) {\n",
              "  const element = document.createElement('span');\n",
              "  element.textContent = text;\n",
              "  for (const key of Object.keys(styleAttributes)) {\n",
              "    element.style[key] = styleAttributes[key];\n",
              "  }\n",
              "  return element;\n",
              "}\n",
              "\n",
              "// Max number of bytes which will be uploaded at a time.\n",
              "const MAX_PAYLOAD_SIZE = 100 * 1024;\n",
              "\n",
              "function _uploadFiles(inputId, outputId) {\n",
              "  const steps = uploadFilesStep(inputId, outputId);\n",
              "  const outputElement = document.getElementById(outputId);\n",
              "  // Cache steps on the outputElement to make it available for the next call\n",
              "  // to uploadFilesContinue from Python.\n",
              "  outputElement.steps = steps;\n",
              "\n",
              "  return _uploadFilesContinue(outputId);\n",
              "}\n",
              "\n",
              "// This is roughly an async generator (not supported in the browser yet),\n",
              "// where there are multiple asynchronous steps and the Python side is going\n",
              "// to poll for completion of each step.\n",
              "// This uses a Promise to block the python side on completion of each step,\n",
              "// then passes the result of the previous step as the input to the next step.\n",
              "function _uploadFilesContinue(outputId) {\n",
              "  const outputElement = document.getElementById(outputId);\n",
              "  const steps = outputElement.steps;\n",
              "\n",
              "  const next = steps.next(outputElement.lastPromiseValue);\n",
              "  return Promise.resolve(next.value.promise).then((value) => {\n",
              "    // Cache the last promise value to make it available to the next\n",
              "    // step of the generator.\n",
              "    outputElement.lastPromiseValue = value;\n",
              "    return next.value.response;\n",
              "  });\n",
              "}\n",
              "\n",
              "/**\n",
              " * Generator function which is called between each async step of the upload\n",
              " * process.\n",
              " * @param {string} inputId Element ID of the input file picker element.\n",
              " * @param {string} outputId Element ID of the output display.\n",
              " * @return {!Iterable<!Object>} Iterable of next steps.\n",
              " */\n",
              "function* uploadFilesStep(inputId, outputId) {\n",
              "  const inputElement = document.getElementById(inputId);\n",
              "  inputElement.disabled = false;\n",
              "\n",
              "  const outputElement = document.getElementById(outputId);\n",
              "  outputElement.innerHTML = '';\n",
              "\n",
              "  const pickedPromise = new Promise((resolve) => {\n",
              "    inputElement.addEventListener('change', (e) => {\n",
              "      resolve(e.target.files);\n",
              "    });\n",
              "  });\n",
              "\n",
              "  const cancel = document.createElement('button');\n",
              "  inputElement.parentElement.appendChild(cancel);\n",
              "  cancel.textContent = 'Cancel upload';\n",
              "  const cancelPromise = new Promise((resolve) => {\n",
              "    cancel.onclick = () => {\n",
              "      resolve(null);\n",
              "    };\n",
              "  });\n",
              "\n",
              "  // Wait for the user to pick the files.\n",
              "  const files = yield {\n",
              "    promise: Promise.race([pickedPromise, cancelPromise]),\n",
              "    response: {\n",
              "      action: 'starting',\n",
              "    }\n",
              "  };\n",
              "\n",
              "  cancel.remove();\n",
              "\n",
              "  // Disable the input element since further picks are not allowed.\n",
              "  inputElement.disabled = true;\n",
              "\n",
              "  if (!files) {\n",
              "    return {\n",
              "      response: {\n",
              "        action: 'complete',\n",
              "      }\n",
              "    };\n",
              "  }\n",
              "\n",
              "  for (const file of files) {\n",
              "    const li = document.createElement('li');\n",
              "    li.append(span(file.name, {fontWeight: 'bold'}));\n",
              "    li.append(span(\n",
              "        `(${file.type || 'n/a'}) - ${file.size} bytes, ` +\n",
              "        `last modified: ${\n",
              "            file.lastModifiedDate ? file.lastModifiedDate.toLocaleDateString() :\n",
              "                                    'n/a'} - `));\n",
              "    const percent = span('0% done');\n",
              "    li.appendChild(percent);\n",
              "\n",
              "    outputElement.appendChild(li);\n",
              "\n",
              "    const fileDataPromise = new Promise((resolve) => {\n",
              "      const reader = new FileReader();\n",
              "      reader.onload = (e) => {\n",
              "        resolve(e.target.result);\n",
              "      };\n",
              "      reader.readAsArrayBuffer(file);\n",
              "    });\n",
              "    // Wait for the data to be ready.\n",
              "    let fileData = yield {\n",
              "      promise: fileDataPromise,\n",
              "      response: {\n",
              "        action: 'continue',\n",
              "      }\n",
              "    };\n",
              "\n",
              "    // Use a chunked sending to avoid message size limits. See b/62115660.\n",
              "    let position = 0;\n",
              "    do {\n",
              "      const length = Math.min(fileData.byteLength - position, MAX_PAYLOAD_SIZE);\n",
              "      const chunk = new Uint8Array(fileData, position, length);\n",
              "      position += length;\n",
              "\n",
              "      const base64 = btoa(String.fromCharCode.apply(null, chunk));\n",
              "      yield {\n",
              "        response: {\n",
              "          action: 'append',\n",
              "          file: file.name,\n",
              "          data: base64,\n",
              "        },\n",
              "      };\n",
              "\n",
              "      let percentDone = fileData.byteLength === 0 ?\n",
              "          100 :\n",
              "          Math.round((position / fileData.byteLength) * 100);\n",
              "      percent.textContent = `${percentDone}% done`;\n",
              "\n",
              "    } while (position < fileData.byteLength);\n",
              "  }\n",
              "\n",
              "  // All done.\n",
              "  yield {\n",
              "    response: {\n",
              "      action: 'complete',\n",
              "    }\n",
              "  };\n",
              "}\n",
              "\n",
              "scope.google = scope.google || {};\n",
              "scope.google.colab = scope.google.colab || {};\n",
              "scope.google.colab._files = {\n",
              "  _uploadFiles,\n",
              "  _uploadFilesContinue,\n",
              "};\n",
              "})(self);\n",
              "</script> "
            ]
          },
          "metadata": {}
        },
        {
          "output_type": "stream",
          "name": "stderr",
          "text": [
            "WARNING:tensorflow:Using a while_loop for converting IO>AudioResample cause there is no registered converter for this op.\n"
          ]
        },
        {
          "output_type": "stream",
          "name": "stdout",
          "text": [
            "Saving possum.wav to possum (2).wav\n",
            "The main sound is: bat (probability: 0.89)\n"
          ]
        }
      ]
    },
    {
      "cell_type": "markdown",
      "source": [
        "Simultaneous Detection"
      ],
      "metadata": {
        "id": "p07xV8WyF1YH"
      }
    },
    {
      "cell_type": "code",
      "source": [
        "!pip install -q --upgrade tensorflow==2.17.0 tensorflow-io\n",
        "!pip install numpy==1.26.4 pandas==2.1.4 --force-reinstall"
      ],
      "metadata": {
        "id": "_gOvqageI3kJ"
      },
      "execution_count": null,
      "outputs": []
    },
    {
      "cell_type": "code",
      "source": [
        "import os\n",
        "import glob\n",
        "import random\n",
        "import numpy as np\n",
        "import pandas as pd\n",
        "import tensorflow as tf\n",
        "import tensorflow_hub as hub\n",
        "import tensorflow_io as tfio\n",
        "import matplotlib.pyplot as plt\n",
        "from IPython import display\n",
        "from sklearn.model_selection import train_test_split\n",
        "from google.colab import files\n",
        "import zipfile"
      ],
      "metadata": {
        "id": "b37Wxi_oI5f7"
      },
      "execution_count": null,
      "outputs": []
    },
    {
      "cell_type": "code",
      "source": [
        "@tf.function\n",
        "def load_wav_16k_mono(filename):\n",
        "  \"\"\" Load a WAV file, convert it to a float tensor, resample to 16 kHz single-channel audio. \"\"\"\n",
        "  file_contents = tf.io.read_file(filename)\n",
        "  wav, sample_rate = tf.audio.decode_wav(file_contents, desired_channels=1)\n",
        "  wav = tf.squeeze(wav, axis=-1)\n",
        "  sample_rate = tf.cast(sample_rate, dtype=tf.int64)\n",
        "  wav = tfio.audio.resample(wav, rate_in=sample_rate, rate_out=16000)\n",
        "  return wav\n",
        "\n",
        "def extract_embedding(wav_data, label):\n",
        "  scores, embeddings, spectrogram = yamnet_model(wav_data)\n",
        "  num_embeddings = tf.shape(embeddings)[0]\n",
        "  return (embeddings, tf.repeat(tf.expand_dims(label, axis=0), num_embeddings, axis=0))  # Repeat multi-hot vector"
      ],
      "metadata": {
        "id": "vOyY9fptJLaZ"
      },
      "execution_count": null,
      "outputs": []
    },
    {
      "cell_type": "code",
      "source": [
        "yamnet_model_handle = 'https://tfhub.dev/google/yamnet/1'\n",
        "yamnet_model = hub.load(yamnet_model_handle)"
      ],
      "metadata": {
        "id": "zZyueOSzJMEd"
      },
      "execution_count": null,
      "outputs": []
    },
    {
      "cell_type": "code",
      "source": [
        "import zipfile\n",
        "\n",
        "!unzip -q /content/augmented_data/augmented_kookaburra.zip -d /content/augmented_data\n",
        "!unzip -q /content/augmented_data/augmented_bat.zip -d /content/augmented_data\n",
        "!unzip -q /content/augmented_data/augmented_cockatoo.zip -d /content/augmented_data\n",
        "!unzip -q /content/augmented_data/augmented_crocodile.zip -d /content/augmented_data\n",
        "!unzip -q /content/augmented_data/augmented_dingo.zip -d /content/augmented_data\n",
        "!unzip -q /content/augmented_data/augmented_duck.zip -d /content/augmented_data\n",
        "!unzip -q /content/augmented_data/augmented_frog.zip -d /content/augmented_data\n",
        "!unzip -q /content/augmented_data/augmented_koala.zip -d /content/augmented_data\n",
        "!unzip -q /content/augmented_data/augmented_magpie.zip -d /content/augmented_data\n",
        "!unzip -q /content/augmented_data/augmented_platypus.zip -d /content/augmented_data\n",
        "!unzip -q /content/augmented_data/augmented_possum.zip -d /content/augmented_data\n",
        "!unzip -q /content/augmented_data/augmented_snake.zip -d /content/augmented_data\n",
        "!unzip -q /content/augmented_data/augmented_tawnyfrogmouth.zip -d /content/augmented_data\n",
        "!unzip -q /content/augmented_data/augmented_wombat.zip -d /content/augmented_data\n",
        "!unzip -q /content/augmented_data/augmented_background.zip -d /content/augmented_data"
      ],
      "metadata": {
        "id": "CuFMp6HqJN8O"
      },
      "execution_count": null,
      "outputs": []
    },
    {
      "cell_type": "code",
      "source": [
        "import glob\n",
        "import pandas as pd\n",
        "import os\n",
        "import random  # Ensure imported\n",
        "\n",
        "my_classes = ['kookaburra', 'bat', 'cockatoo', 'crocodile', 'dingo', 'duck', 'frog', 'koala', 'magpie', 'platypus', 'possum', 'snake', 'tawnyfrogmouth', 'wombat', 'background']\n",
        "base_data_path = '/content/augmented_data/'\n",
        "\n",
        "# Group files by class (dict for mixing)\n",
        "class_files = {}\n",
        "for c in my_classes:\n",
        "    class_files[c] = glob.glob(os.path.join(base_data_path, f'augmented_{c}', '*.wav'))  # Assuming subfolders like augmented_kookaburra/\n",
        "\n",
        "print({c: len(files) for c, files in class_files.items()})  # Debug totals"
      ],
      "metadata": {
        "id": "iz4FvOVXJRaY"
      },
      "execution_count": null,
      "outputs": []
    },
    {
      "cell_type": "code",
      "source": [
        "from sklearn.model_selection import train_test_split\n",
        "\n",
        "# Mixing parameters (tune these)\n",
        "mix_prob = 0.5  # Probability a sample is mixed\n",
        "max_mixes = 2   # Max additional animals per mix\n",
        "\n",
        "# Function to generate mixed samples (files + multi-hot labels)\n",
        "def generate_mixed_samples(class_files, my_classes, samples_per_class=1000):  # Increase for larger dataset\n",
        "    all_files = []  # List of [file1, file2, ...] for each sample\n",
        "    all_labels = []  # Multi-hot np arrays\n",
        "    for c in my_classes:\n",
        "        class_idx = my_classes.index(c)\n",
        "        for _ in range(samples_per_class):\n",
        "            if random.random() < mix_prob:\n",
        "                num_other = random.randint(1, max_mixes)\n",
        "                other_classes = random.sample([oc for oc in my_classes if oc != c and oc != 'background'], num_other)  # Exclude background or include optionally\n",
        "                mix_files = [random.choice(class_files[c])] + [random.choice(class_files[oc]) for oc in other_classes]\n",
        "                mix_label = np.zeros(len(my_classes), dtype=np.float32)\n",
        "                mix_label[class_idx] = 1.0\n",
        "                for oc in other_classes:\n",
        "                    mix_label[my_classes.index(oc)] = 1.0\n",
        "                all_files.append(mix_files)\n",
        "                all_labels.append(mix_label)\n",
        "            else:\n",
        "                single_file = [random.choice(class_files[c])]\n",
        "                single_label = np.zeros(len(my_classes), dtype=np.float32)\n",
        "                single_label[class_idx] = 1.0\n",
        "                all_files.append(single_file)\n",
        "                all_labels.append(single_label)\n",
        "    return all_files, all_labels\n",
        "\n",
        "# Generate\n",
        "all_files, all_labels = generate_mixed_samples(class_files, my_classes)\n",
        "\n",
        "# Split\n",
        "train_files, test_files, train_labels, test_labels = train_test_split(all_files, all_labels, test_size=0.2, random_state=42)  # No stratify needed for multi-label\n",
        "train_files, val_files, train_labels, val_labels = train_test_split(train_files, train_labels, test_size=0.125, random_state=42)\n",
        "\n",
        "# Function to load and mix waveforms\n",
        "@tf.function\n",
        "def load_and_mix(files, label):\n",
        "    waveforms = [load_wav_16k_mono(f) for f in files]\n",
        "    # Pad to max length\n",
        "    max_len = tf.reduce_max([tf.shape(w)[0] for w in waveforms])\n",
        "    padded = [tf.pad(w, [[0, max_len - tf.shape(w)[0]]]) for w in waveforms]\n",
        "    # Mix: Sum and normalize (simple overlay; adjust volumes optionally)\n",
        "    mixed = tf.reduce_sum(padded, axis=0) / len(padded)\n",
        "    return mixed, label  # Label is already multi-hot\n",
        "\n",
        "# Datasets: Map to mix, then extract embeddings\n",
        "train_ds = tf.data.Dataset.from_tensor_slices((train_files, train_labels)).map(load_and_mix).map(extract_embedding).unbatch().cache().batch(32).prefetch(tf.data.AUTOTUNE)\n",
        "val_ds = tf.data.Dataset.from_tensor_slices((val_files, val_labels)).map(load_and_mix).map(extract_embedding).unbatch().cache().batch(32).prefetch(tf.data.AUTOTUNE)\n",
        "test_ds = tf.data.Dataset.from_tensor_slices((test_files, test_labels)).map(load_and_mix).map(extract_embedding).unbatch().cache().batch(32).prefetch(tf.data.AUTOTUNE)"
      ],
      "metadata": {
        "id": "CzFUhQrVJSAH"
      },
      "execution_count": null,
      "outputs": []
    },
    {
      "cell_type": "code",
      "source": [
        "my_model = tf.keras.Sequential([\n",
        "    tf.keras.layers.Input(shape=(1024,), dtype=tf.float32, name='input_embedding'),\n",
        "    tf.keras.layers.Dense(512, activation='relu'),\n",
        "    tf.keras.layers.Dense(len(my_classes), activation='sigmoid')  # Sigmoid for multi-label\n",
        "], name='animal_model')\n",
        "\n",
        "my_model.summary()\n",
        "\n",
        "my_model.compile(loss=tf.keras.losses.BinaryCrossentropy(),  # Binary for multi-label\n",
        "                 optimizer=\"adam\",\n",
        "                 metrics=[tf.keras.metrics.BinaryAccuracy(), tf.keras.metrics.Precision(), tf.keras.metrics.Recall()])"
      ],
      "metadata": {
        "id": "FOeC1OiHJUqQ"
      },
      "execution_count": null,
      "outputs": []
    },
    {
      "cell_type": "code",
      "source": [
        "callback = tf.keras.callbacks.EarlyStopping(monitor='loss', patience=3, restore_best_weights=True)\n",
        "\n",
        "history = my_model.fit(train_ds,\n",
        "                       epochs=20,\n",
        "                       validation_data=val_ds,\n",
        "                       callbacks=[callback])"
      ],
      "metadata": {
        "id": "cGZjpFR8JWU-"
      },
      "execution_count": null,
      "outputs": []
    },
    {
      "cell_type": "code",
      "source": [
        "# Loss plot\n",
        "loss = history.history['loss']\n",
        "val_loss = history.history['val_loss']\n",
        "epochs = range(1, len(loss) + 1)\n",
        "\n",
        "plt.plot(epochs, loss, 'bo', label='Training loss')\n",
        "plt.plot(epochs, val_loss, 'b', label='Validation loss')\n",
        "plt.title('Training and validation loss')\n",
        "plt.legend()\n",
        "plt.show()\n",
        "\n",
        "# Binary Accuracy plot (update key if needed)\n",
        "acc = history.history['binary_accuracy']\n",
        "val_acc = history.history['val_binary_accuracy']\n",
        "\n",
        "plt.plot(epochs, acc, 'bo', label='Training acc')\n",
        "plt.plot(epochs, val_acc, 'b', label='Validation acc')\n",
        "plt.title('Training and validation accuracy')\n",
        "plt.legend()\n",
        "plt.show()\n",
        "\n",
        "# Test evaluation\n",
        "test_results = my_model.evaluate(test_ds, return_dict=True)\n",
        "print(test_results)"
      ],
      "metadata": {
        "id": "T4fodFhbJZgk"
      },
      "execution_count": null,
      "outputs": []
    },
    {
      "cell_type": "code",
      "source": [
        "# Upload and test new file\n",
        "uploaded = files.upload()\n",
        "new_file = list(uploaded.keys())[0]\n",
        "\n",
        "waveform = load_wav_16k_mono(new_file)\n",
        "scores, embeddings, spectrogram = yamnet_model(waveform)\n",
        "result = my_model(embeddings).numpy()  # Logits\n",
        "probs = tf.sigmoid(result.mean(axis=0)).numpy()  # Sigmoid probabilities\n",
        "threshold = 0.5  # Tune this\n",
        "detected_indices = np.where(probs > threshold)[0]\n",
        "detected_classes = [my_classes[i] for i in detected_indices]\n",
        "detected_probs = probs[detected_indices]\n",
        "\n",
        "if len(detected_classes) == 0:\n",
        "    print(\"No detections above threshold.\")\n",
        "else:\n",
        "    print(f\"Detected: {', '.join(detected_classes)} (probabilities: {', '.join(f'{p:.2f}' for p in detected_probs)})\")"
      ],
      "metadata": {
        "id": "PP0pcg8hJaBh"
      },
      "execution_count": null,
      "outputs": []
    }
  ],
  "metadata": {
    "accelerator": "GPU",
    "colab": {
      "name": "transfer_learning_audio.ipynb",
      "provenance": [],
      "gpuType": "T4"
    },
    "kernelspec": {
      "display_name": "Python 3",
      "name": "python3"
    }
  },
  "nbformat": 4,
  "nbformat_minor": 0
}